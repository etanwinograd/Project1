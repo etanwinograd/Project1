{
 "cells": [
  {
   "cell_type": "code",
   "execution_count": 213,
   "id": "62dd9d11-4f84-439f-a6b5-0641ebda5c21",
   "metadata": {},
   "outputs": [],
   "source": [
    "# Load required libaries + save as a new file to keep original template in tact\n",
    "import pandas as pd\n",
    "import os\n",
    "import json\n",
    "import sys\n",
    "import time\n",
    "import hmac\n",
    "import requests\n",
    "from ftx_functions import get_price"
   ]
  },
  {
   "cell_type": "code",
   "execution_count": 214,
   "id": "5f51bc0a-179a-4764-b3ec-9d1d5689ed08",
   "metadata": {},
   "outputs": [],
   "source": [
    "# All FTX Futures Markets: https://ftx.com/markets\n",
    "# 2 Coins Used for Application: BTC & ETH"
   ]
  },
  {
   "cell_type": "code",
   "execution_count": 215,
   "id": "f4e0a332-07f3-4401-905c-1d4c849664ae",
   "metadata": {},
   "outputs": [
    {
     "name": "stdout",
     "output_type": "stream",
     "text": [
      "Pulling Today's Price for BTC/USD...\n",
      "Pulling Today's Price for ETH/USD...\n"
     ]
    }
   ],
   "source": [
    "# Pulls TODAY'S SPOT prices for BTC & ETH from FTX API\n",
    "btc_spot = get_price(\"BTC/USD\")\n",
    "eth_spot = get_price(\"ETH/USD\")"
   ]
  },
  {
   "cell_type": "code",
   "execution_count": 216,
   "id": "edd9245f-e96a-4a29-a85c-683be8945317",
   "metadata": {},
   "outputs": [
    {
     "name": "stdout",
     "output_type": "stream",
     "text": [
      "cryptoSpotPrices DataFrame\n"
     ]
    },
    {
     "data": {
      "text/html": [
       "<div>\n",
       "<style scoped>\n",
       "    .dataframe tbody tr th:only-of-type {\n",
       "        vertical-align: middle;\n",
       "    }\n",
       "\n",
       "    .dataframe tbody tr th {\n",
       "        vertical-align: top;\n",
       "    }\n",
       "\n",
       "    .dataframe thead th {\n",
       "        text-align: right;\n",
       "    }\n",
       "</style>\n",
       "<table border=\"1\" class=\"dataframe\">\n",
       "  <thead>\n",
       "    <tr style=\"text-align: right;\">\n",
       "      <th></th>\n",
       "      <th>exchange</th>\n",
       "      <th>symbol</th>\n",
       "      <th>spotPrice</th>\n",
       "    </tr>\n",
       "    <tr>\n",
       "      <th>underlying</th>\n",
       "      <th></th>\n",
       "      <th></th>\n",
       "      <th></th>\n",
       "    </tr>\n",
       "  </thead>\n",
       "  <tbody>\n",
       "    <tr>\n",
       "      <th>BTC</th>\n",
       "      <td>FTX</td>\n",
       "      <td>BTC/USD</td>\n",
       "      <td>43636.0</td>\n",
       "    </tr>\n",
       "    <tr>\n",
       "      <th>ETH</th>\n",
       "      <td>FTX</td>\n",
       "      <td>ETH/USD</td>\n",
       "      <td>3097.6</td>\n",
       "    </tr>\n",
       "  </tbody>\n",
       "</table>\n",
       "</div>"
      ],
      "text/plain": [
       "           exchange   symbol spotPrice\n",
       "underlying                            \n",
       "BTC             FTX  BTC/USD   43636.0\n",
       "ETH             FTX  ETH/USD    3097.6"
      ]
     },
     "metadata": {},
     "output_type": "display_data"
    }
   ],
   "source": [
    "# Combines the SPOT price data into a single DataFrame and reformats for application composability\n",
    "spot_prices = pd.concat([btc_spot, eth_spot], axis=\"rows\", join=\"inner\")\n",
    "spot_prices = spot_prices.rename(columns={\"Current Price\":\"spotPrice\"})\n",
    "spot_prices = spot_prices.rename_axis('symbol')\n",
    "spot_prices[\"exchange\"] = [\"FTX\", \"FTX\"]\n",
    "spot_prices[\"underlying\"] = [\"BTC\", \"ETH\"]\n",
    "spot_prices = spot_prices.reset_index()\n",
    "spot_prices = spot_prices[[\"exchange\", \"underlying\", \"symbol\", \"spotPrice\"]]\n",
    "spot_prices = spot_prices.set_index(\"underlying\")\n",
    "\n",
    "print(\"cryptoSpotPrices DataFrame\")\n",
    "display(spot_prices)\n"
   ]
  },
  {
   "cell_type": "code",
   "execution_count": 217,
   "id": "96992748-9b7a-47ba-9431-2f875b89da30",
   "metadata": {},
   "outputs": [
    {
     "name": "stdout",
     "output_type": "stream",
     "text": [
      "Pulling Today's Price for BTC-0325...\n",
      "Pulling Today's Price for BTC-0624...\n",
      "Pulling Today's Price for ETH-0325...\n",
      "Pulling Today's Price for ETH-0624...\n"
     ]
    }
   ],
   "source": [
    "# Pulls TODAY's FUTURES prices for BTC & ETH from FTX API\n",
    "btc_futures_mar = get_price(\"BTC-0325\")\n",
    "btc_futures_jun = get_price(\"BTC-0624\")\n",
    "eth_futures_mar = get_price(\"ETH-0325\")\n",
    "eth_futures_jun = get_price(\"ETH-0624\")"
   ]
  },
  {
   "cell_type": "code",
   "execution_count": 218,
   "id": "2ec0abca-8a9d-44ff-8ba2-7e8647dfb33b",
   "metadata": {},
   "outputs": [
    {
     "name": "stdout",
     "output_type": "stream",
     "text": [
      "cryptoFuturesPrices DataFrame\n"
     ]
    },
    {
     "data": {
      "text/html": [
       "<div>\n",
       "<style scoped>\n",
       "    .dataframe tbody tr th:only-of-type {\n",
       "        vertical-align: middle;\n",
       "    }\n",
       "\n",
       "    .dataframe tbody tr th {\n",
       "        vertical-align: top;\n",
       "    }\n",
       "\n",
       "    .dataframe thead th {\n",
       "        text-align: right;\n",
       "    }\n",
       "</style>\n",
       "<table border=\"1\" class=\"dataframe\">\n",
       "  <thead>\n",
       "    <tr style=\"text-align: right;\">\n",
       "      <th></th>\n",
       "      <th>exchange</th>\n",
       "      <th>symbol</th>\n",
       "      <th>expiration</th>\n",
       "      <th>annualizedReturn</th>\n",
       "    </tr>\n",
       "    <tr>\n",
       "      <th>underlying</th>\n",
       "      <th></th>\n",
       "      <th></th>\n",
       "      <th></th>\n",
       "      <th></th>\n",
       "    </tr>\n",
       "  </thead>\n",
       "  <tbody>\n",
       "    <tr>\n",
       "      <th>BTC</th>\n",
       "      <td>FTX</td>\n",
       "      <td>BTC-0325</td>\n",
       "      <td>2022-03-25</td>\n",
       "      <td>0.02475</td>\n",
       "    </tr>\n",
       "    <tr>\n",
       "      <th>BTC</th>\n",
       "      <td>FTX</td>\n",
       "      <td>BTC-0624</td>\n",
       "      <td>2022-06-24</td>\n",
       "      <td>0.222752</td>\n",
       "    </tr>\n",
       "    <tr>\n",
       "      <th>ETH</th>\n",
       "      <td>FTX</td>\n",
       "      <td>ETH-0325</td>\n",
       "      <td>2022-03-25</td>\n",
       "      <td>0.013171</td>\n",
       "    </tr>\n",
       "    <tr>\n",
       "      <th>ETH</th>\n",
       "      <td>FTX</td>\n",
       "      <td>ETH-0624</td>\n",
       "      <td>2022-06-24</td>\n",
       "      <td>0.173166</td>\n",
       "    </tr>\n",
       "  </tbody>\n",
       "</table>\n",
       "</div>"
      ],
      "text/plain": [
       "           exchange    symbol expiration annualizedReturn\n",
       "underlying                                               \n",
       "BTC             FTX  BTC-0325 2022-03-25          0.02475\n",
       "BTC             FTX  BTC-0624 2022-06-24         0.222752\n",
       "ETH             FTX  ETH-0325 2022-03-25         0.013171\n",
       "ETH             FTX  ETH-0624 2022-06-24         0.173166"
      ]
     },
     "execution_count": 218,
     "metadata": {},
     "output_type": "execute_result"
    }
   ],
   "source": [
    "# Combines the FUTURES price data into a single DataFrame\n",
    "futures_prices = pd.concat([btc_futures_mar, btc_futures_jun,eth_futures_mar, eth_futures_jun], axis=\"rows\", join=\"inner\")\n",
    "\n",
    "# Reformats DataFrame for application composability\n",
    "futures_prices = futures_prices.rename_axis('symbol')\n",
    "futures_prices[\"exchange\"] = [\"FTX\", \"FTX\", \"FTX\", \"FTX\"]\n",
    "futures_prices[\"underlying\"] = [\"BTC\", \"BTC\", \"ETH\", \"ETH\"]\n",
    "futures_prices[\"expiration\"] = [\"2022-03-25\", \"2022-06-24\", \"2022-03-25\", \"2022-06-24\"]\n",
    "futures_prices[\"expiration\"]= pd.to_datetime(futures_prices['expiration'])\n",
    "futures_prices = futures_prices.reset_index()\n",
    "futures_prices = futures_prices[[\"exchange\", \"underlying\", \"symbol\", \"expiration\", \"Current Price\"]]\n",
    "futures_prices = futures_prices.set_index(\"underlying\")\n",
    "futures_prices[\"spotPrice\"] = [spot_prices[\"spotPrice\"][\"BTC\"], spot_prices[\"spotPrice\"][\"BTC\"], spot_prices[\"spotPrice\"][\"ETH\"], spot_prices[\"spotPrice\"][\"ETH\"]]\n",
    "futures_prices[\"annualizedReturn\"] = (futures_prices[\"Current Price\"] - futures_prices[\"spotPrice\"]) / futures_prices[\"spotPrice\"] * 12\n",
    "futures_prices = futures_prices.drop(columns=['Current Price', 'spotPrice'])\n",
    "\n",
    "print(\"cryptoFuturesPrices DataFrame\")\n",
    "futures_prices"
   ]
  },
  {
   "cell_type": "code",
   "execution_count": null,
   "id": "b193bb45-f3db-4a9a-acfe-a6d31f658d32",
   "metadata": {},
   "outputs": [],
   "source": []
  }
 ],
 "metadata": {
  "kernelspec": {
   "display_name": "dev",
   "language": "python",
   "name": "dev"
  },
  "language_info": {
   "codemirror_mode": {
    "name": "ipython",
    "version": 3
   },
   "file_extension": ".py",
   "mimetype": "text/x-python",
   "name": "python",
   "nbconvert_exporter": "python",
   "pygments_lexer": "ipython3",
   "version": "3.7.11"
  }
 },
 "nbformat": 4,
 "nbformat_minor": 5
}

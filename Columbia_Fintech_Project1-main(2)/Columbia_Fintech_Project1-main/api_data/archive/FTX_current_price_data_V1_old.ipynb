{
 "cells": [
  {
   "cell_type": "code",
   "execution_count": 1,
   "id": "62dd9d11-4f84-439f-a6b5-0641ebda5c21",
   "metadata": {},
   "outputs": [],
   "source": [
    "# Load required libaries + save as a new file to keep original template in tact\n",
    "import pandas as pd\n",
    "import os\n",
    "import json\n",
    "import sys\n",
    "import time\n",
    "import hmac\n",
    "import requests\n",
    "from ftx_functions import get_price"
   ]
  },
  {
   "cell_type": "code",
   "execution_count": 2,
   "id": "5f51bc0a-179a-4764-b3ec-9d1d5689ed08",
   "metadata": {},
   "outputs": [],
   "source": [
    "# All FTX Futures Markets: https://ftx.com/markets\n",
    "# 5 Coins Used for Application: BTC, ETH, SOL, XRP, MATIC"
   ]
  },
  {
   "cell_type": "code",
   "execution_count": 3,
   "id": "f4e0a332-07f3-4401-905c-1d4c849664ae",
   "metadata": {},
   "outputs": [
    {
     "name": "stdout",
     "output_type": "stream",
     "text": [
      "Pulling Today's Price for BTC/USD...\n",
      "Pulling Today's Price for ETH/USD...\n",
      "Pulling Today's Price for SOL/USD...\n",
      "Pulling Today's Price for XRP/USD...\n",
      "Pulling Today's Price for MATIC/USD...\n"
     ]
    }
   ],
   "source": [
    "# Pulls TODAY'S SPOT prices for BTC, ETH, SOL, XRP MATIC from FTX\n",
    "btc_spot = get_price(\"BTC/USD\")\n",
    "eth_spot = get_price(\"ETH/USD\")\n",
    "sol_spot = get_price(\"SOL/USD\")\n",
    "xrp_spot = get_price(\"XRP/USD\")\n",
    "matic_spot = get_price(\"MATIC/USD\")\n"
   ]
  },
  {
   "cell_type": "code",
   "execution_count": 4,
   "id": "edd9245f-e96a-4a29-a85c-683be8945317",
   "metadata": {},
   "outputs": [
    {
     "name": "stdout",
     "output_type": "stream",
     "text": [
      "Current Spot Prices\n"
     ]
    },
    {
     "data": {
      "text/html": [
       "<div>\n",
       "<style scoped>\n",
       "    .dataframe tbody tr th:only-of-type {\n",
       "        vertical-align: middle;\n",
       "    }\n",
       "\n",
       "    .dataframe tbody tr th {\n",
       "        vertical-align: top;\n",
       "    }\n",
       "\n",
       "    .dataframe thead th {\n",
       "        text-align: right;\n",
       "    }\n",
       "</style>\n",
       "<table border=\"1\" class=\"dataframe\">\n",
       "  <thead>\n",
       "    <tr style=\"text-align: right;\">\n",
       "      <th></th>\n",
       "      <th>Current Price</th>\n",
       "    </tr>\n",
       "  </thead>\n",
       "  <tbody>\n",
       "    <tr>\n",
       "      <th>BTC/USD</th>\n",
       "      <td>44174.0</td>\n",
       "    </tr>\n",
       "    <tr>\n",
       "      <th>ETH/USD</th>\n",
       "      <td>3223.3</td>\n",
       "    </tr>\n",
       "    <tr>\n",
       "      <th>SOL/USD</th>\n",
       "      <td>113.655</td>\n",
       "    </tr>\n",
       "    <tr>\n",
       "      <th>XRP/USD</th>\n",
       "      <td>0.875075</td>\n",
       "    </tr>\n",
       "    <tr>\n",
       "      <th>MATIC/USD</th>\n",
       "      <td>2.015175</td>\n",
       "    </tr>\n",
       "  </tbody>\n",
       "</table>\n",
       "</div>"
      ],
      "text/plain": [
       "          Current Price\n",
       "BTC/USD         44174.0\n",
       "ETH/USD          3223.3\n",
       "SOL/USD         113.655\n",
       "XRP/USD        0.875075\n",
       "MATIC/USD      2.015175"
      ]
     },
     "metadata": {},
     "output_type": "display_data"
    }
   ],
   "source": [
    "# Combines all the price data into a single DataFrame\n",
    "spot_prices = pd.concat([btc_spot, eth_spot, sol_spot, xrp_spot, matic_spot], axis=\"rows\", join=\"inner\")\n",
    "spot_prices = spot_prices.rename(index={0:\"symbol\"})\n",
    "spot_prices = spot_prices.rename(columns={\"Current Price\":\"symbol\"})\n",
    "print(\"Current Spot Prices\")\n",
    "display(spot_prices)"
   ]
  },
  {
   "cell_type": "code",
   "execution_count": 14,
   "id": "96992748-9b7a-47ba-9431-2f875b89da30",
   "metadata": {},
   "outputs": [
    {
     "name": "stdout",
     "output_type": "stream",
     "text": [
      "Pulling Today's Price for BTC-0325...\n",
      "Pulling Today's Price for ETH-0325...\n",
      "Pulling Today's Price for SOL-0325...\n",
      "Pulling Today's Price for XRP-0325...\n"
     ]
    }
   ],
   "source": [
    "# Pulls TODAY's FUTURES prices for BTC, ETH, SOL, XRP, MATIC from FTX\n",
    "btc_futures_mar = get_price(\"BTC-0325\")\n",
    "eth_futures_mar = get_price(\"ETH-0325\")\n",
    "sol_futures_mar = get_price(\"SOL-0325\")\n",
    "xrp_futures_mar = get_price(\"XRP-0325\")\n"
   ]
  },
  {
   "cell_type": "code",
   "execution_count": 15,
   "id": "2ec0abca-8a9d-44ff-8ba2-7e8647dfb33b",
   "metadata": {},
   "outputs": [
    {
     "name": "stdout",
     "output_type": "stream",
     "text": [
      "Current Futures Prices\n"
     ]
    },
    {
     "data": {
      "text/html": [
       "<div>\n",
       "<style scoped>\n",
       "    .dataframe tbody tr th:only-of-type {\n",
       "        vertical-align: middle;\n",
       "    }\n",
       "\n",
       "    .dataframe tbody tr th {\n",
       "        vertical-align: top;\n",
       "    }\n",
       "\n",
       "    .dataframe thead th {\n",
       "        text-align: right;\n",
       "    }\n",
       "</style>\n",
       "<table border=\"1\" class=\"dataframe\">\n",
       "  <thead>\n",
       "    <tr style=\"text-align: right;\">\n",
       "      <th></th>\n",
       "      <th>Current Price</th>\n",
       "    </tr>\n",
       "  </thead>\n",
       "  <tbody>\n",
       "    <tr>\n",
       "      <th>BTC-0325</th>\n",
       "      <td>44357.0</td>\n",
       "    </tr>\n",
       "    <tr>\n",
       "      <th>ETH-0325</th>\n",
       "      <td>3228.8</td>\n",
       "    </tr>\n",
       "    <tr>\n",
       "      <th>SOL-0325</th>\n",
       "      <td>113.7525</td>\n",
       "    </tr>\n",
       "    <tr>\n",
       "      <th>XRP-0325</th>\n",
       "      <td>0.87985</td>\n",
       "    </tr>\n",
       "  </tbody>\n",
       "</table>\n",
       "</div>"
      ],
      "text/plain": [
       "         Current Price\n",
       "BTC-0325       44357.0\n",
       "ETH-0325        3228.8\n",
       "SOL-0325      113.7525\n",
       "XRP-0325       0.87985"
      ]
     },
     "metadata": {},
     "output_type": "display_data"
    }
   ],
   "source": [
    "# Combines all the price data into a single DataFrame\n",
    "march_futures_prices = pd.concat([btc_futures_mar, eth_futures_mar, sol_futures_mar, xrp_futures_mar], axis=\"rows\", join=\"inner\")\n",
    "print(\"Current Futures Prices\")\n",
    "display(march_futures_prices)"
   ]
  },
  {
   "cell_type": "code",
   "execution_count": 16,
   "id": "3fa93a12-3fb3-41e1-9be7-937c52695bba",
   "metadata": {},
   "outputs": [
    {
     "name": "stdout",
     "output_type": "stream",
     "text": [
      "Pulling Today's Price for BTC-0624...\n",
      "Pulling Today's Price for ETH-0624...\n"
     ]
    }
   ],
   "source": [
    "btc_futures_june = get_price(\"BTC-0624\")\n",
    "eth_futures_june = get_price(\"ETH-0624\")"
   ]
  },
  {
   "cell_type": "code",
   "execution_count": 17,
   "id": "e317a035-dd54-4118-aaa1-f36b048b3a00",
   "metadata": {},
   "outputs": [
    {
     "name": "stdout",
     "output_type": "stream",
     "text": [
      "Current Futures Prices\n"
     ]
    },
    {
     "data": {
      "text/html": [
       "<div>\n",
       "<style scoped>\n",
       "    .dataframe tbody tr th:only-of-type {\n",
       "        vertical-align: middle;\n",
       "    }\n",
       "\n",
       "    .dataframe tbody tr th {\n",
       "        vertical-align: top;\n",
       "    }\n",
       "\n",
       "    .dataframe thead th {\n",
       "        text-align: right;\n",
       "    }\n",
       "</style>\n",
       "<table border=\"1\" class=\"dataframe\">\n",
       "  <thead>\n",
       "    <tr style=\"text-align: right;\">\n",
       "      <th></th>\n",
       "      <th>Current Price</th>\n",
       "    </tr>\n",
       "  </thead>\n",
       "  <tbody>\n",
       "    <tr>\n",
       "      <th>BTC-0624</th>\n",
       "      <td>45026.0</td>\n",
       "    </tr>\n",
       "    <tr>\n",
       "      <th>ETH-0624</th>\n",
       "      <td>3271.7</td>\n",
       "    </tr>\n",
       "  </tbody>\n",
       "</table>\n",
       "</div>"
      ],
      "text/plain": [
       "         Current Price\n",
       "BTC-0624       45026.0\n",
       "ETH-0624        3271.7"
      ]
     },
     "metadata": {},
     "output_type": "display_data"
    }
   ],
   "source": [
    "june_futures_prices = pd.concat([btc_futures_june , eth_futures_june], axis=\"rows\", join=\"inner\")\n",
    "print(\"Current Futures Prices\")\n",
    "display(june_futures_prices)"
   ]
  },
  {
   "cell_type": "code",
   "execution_count": 23,
   "id": "944420f9-73e9-440a-b3bb-4485a5a61cc9",
   "metadata": {},
   "outputs": [
    {
     "data": {
      "text/plain": [
       "0.018922400390885268"
      ]
     },
     "execution_count": 23,
     "metadata": {},
     "output_type": "execute_result"
    }
   ],
   "source": [
    "monthly_arbitrage = (45026.0 - 44174.0) / 45026.0\n",
    "monthly_arbitrage"
   ]
  },
  {
   "cell_type": "code",
   "execution_count": null,
   "id": "3d0ddeb0-55cc-401e-9471-b02f0efe4908",
   "metadata": {},
   "outputs": [],
   "source": []
  }
 ],
 "metadata": {
  "kernelspec": {
   "display_name": "dev",
   "language": "python",
   "name": "dev"
  },
  "language_info": {
   "codemirror_mode": {
    "name": "ipython",
    "version": 3
   },
   "file_extension": ".py",
   "mimetype": "text/x-python",
   "name": "python",
   "nbconvert_exporter": "python",
   "pygments_lexer": "ipython3",
   "version": "3.7.11"
  }
 },
 "nbformat": 4,
 "nbformat_minor": 5
}
